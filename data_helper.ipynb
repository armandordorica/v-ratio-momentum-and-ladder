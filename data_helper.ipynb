{
  "nbformat": 4,
  "nbformat_minor": 0,
  "metadata": {
    "colab": {
      "name": "data_helper.ipynb",
      "provenance": [],
      "collapsed_sections": [],
      "authorship_tag": "ABX9TyP83z6fIdWhZvEH7jpRXETd",
      "include_colab_link": true
    },
    "kernelspec": {
      "name": "python3",
      "display_name": "Python 3"
    }
  },
  "cells": [
    {
      "cell_type": "markdown",
      "metadata": {
        "id": "view-in-github",
        "colab_type": "text"
      },
      "source": [
        "<a href=\"https://colab.research.google.com/github/kvyuan/v-ratio-momentum-and-ladder/blob/master/data_helper.ipynb\" target=\"_parent\"><img src=\"https://colab.research.google.com/assets/colab-badge.svg\" alt=\"Open In Colab\"/></a>"
      ]
    },
    {
      "cell_type": "code",
      "metadata": {
        "id": "zHgiR22pR5jZ",
        "colab_type": "code",
        "colab": {
          "base_uri": "https://localhost:8080/",
          "height": 33
        },
        "outputId": "ac646838-23c2-48a7-ed1e-6137c542a861"
      },
      "source": [
        "from google.colab import drive\n",
        "drive.mount('/content/drive')"
      ],
      "execution_count": 56,
      "outputs": [
        {
          "output_type": "stream",
          "text": [
            "Drive already mounted at /content/drive; to attempt to forcibly remount, call drive.mount(\"/content/drive\", force_remount=True).\n"
          ],
          "name": "stdout"
        }
      ]
    },
    {
      "cell_type": "code",
      "metadata": {
        "id": "aaJU2Ir7R_Cp",
        "colab_type": "code",
        "colab": {
          "base_uri": "https://localhost:8080/",
          "height": 33
        },
        "outputId": "b579a870-fe08-413f-8e8b-679d09d390ea"
      },
      "source": [
        "cd /content/drive/My Drive/u of t/APS 1051 Portfolio Optimization/Final Project/v-ratio-momentum-and-ladder"
      ],
      "execution_count": 60,
      "outputs": [
        {
          "output_type": "stream",
          "text": [
            "/content/drive/My Drive/u of t/APS 1051 Portfolio Optimization/Final Project/v-ratio-momentum-and-ladder\n"
          ],
          "name": "stdout"
        }
      ]
    },
    {
      "cell_type": "code",
      "metadata": {
        "id": "uysObKUHSVIS",
        "colab_type": "code",
        "colab": {
          "base_uri": "https://localhost:8080/",
          "height": 147
        },
        "outputId": "1858fcea-1a6e-4955-ff5a-752baf6bbb95"
      },
      "source": [
        ""
      ],
      "execution_count": 62,
      "outputs": [
        {
          "output_type": "stream",
          "text": [
            " computation_helper.ipynb             \u001b[0m\u001b[01;34m__pycache__\u001b[0m/\n",
            " computation_helper.py                README.md\n",
            " \u001b[01;34mdata\u001b[0m/                                \u001b[01;34mResults\u001b[0m/\n",
            " data_helper.ipynb                    rotational_momentum.ipynb\n",
            " data_helper.py                       rotational_momentum.py\n",
            "'function and class mapping.drawio'   Test_code.ipynb\n",
            " Portfolio.ipynb                      WhiteRealityCheckFor1.ipynb\n",
            " portfolio.py                         WhiteRealityCheckFor1.py\n"
          ],
          "name": "stdout"
        }
      ]
    },
    {
      "cell_type": "code",
      "metadata": {
        "id": "8am6Gs8SG8GI",
        "colab_type": "code",
        "colab": {
          "base_uri": "https://localhost:8080/",
          "height": 342
        },
        "outputId": "25d45cd2-717a-45fc-b7ea-f0274a36e4e7"
      },
      "source": [
        "!pip install yfinance"
      ],
      "execution_count": null,
      "outputs": [
        {
          "output_type": "stream",
          "text": [
            "Collecting yfinance\n",
            "  Downloading https://files.pythonhosted.org/packages/c2/31/8b374a12b90def92a4e27d0fc595fc43635f395984e36a075244d98bd265/yfinance-0.1.54.tar.gz\n",
            "Requirement already satisfied: pandas>=0.24 in /usr/local/lib/python3.6/dist-packages (from yfinance) (1.0.5)\n",
            "Requirement already satisfied: numpy>=1.15 in /usr/local/lib/python3.6/dist-packages (from yfinance) (1.18.5)\n",
            "Requirement already satisfied: requests>=2.20 in /usr/local/lib/python3.6/dist-packages (from yfinance) (2.23.0)\n",
            "Requirement already satisfied: multitasking>=0.0.7 in /usr/local/lib/python3.6/dist-packages (from yfinance) (0.0.9)\n",
            "Requirement already satisfied: pytz>=2017.2 in /usr/local/lib/python3.6/dist-packages (from pandas>=0.24->yfinance) (2018.9)\n",
            "Requirement already satisfied: python-dateutil>=2.6.1 in /usr/local/lib/python3.6/dist-packages (from pandas>=0.24->yfinance) (2.8.1)\n",
            "Requirement already satisfied: urllib3!=1.25.0,!=1.25.1,<1.26,>=1.21.1 in /usr/local/lib/python3.6/dist-packages (from requests>=2.20->yfinance) (1.24.3)\n",
            "Requirement already satisfied: chardet<4,>=3.0.2 in /usr/local/lib/python3.6/dist-packages (from requests>=2.20->yfinance) (3.0.4)\n",
            "Requirement already satisfied: certifi>=2017.4.17 in /usr/local/lib/python3.6/dist-packages (from requests>=2.20->yfinance) (2020.6.20)\n",
            "Requirement already satisfied: idna<3,>=2.5 in /usr/local/lib/python3.6/dist-packages (from requests>=2.20->yfinance) (2.10)\n",
            "Requirement already satisfied: six>=1.5 in /usr/local/lib/python3.6/dist-packages (from python-dateutil>=2.6.1->pandas>=0.24->yfinance) (1.15.0)\n",
            "Building wheels for collected packages: yfinance\n",
            "  Building wheel for yfinance (setup.py) ... \u001b[?25l\u001b[?25hdone\n",
            "  Created wheel for yfinance: filename=yfinance-0.1.54-py2.py3-none-any.whl size=22409 sha256=4a4b8f6b929fafcb730a604f5f0331f91538cc5a63a0ec6f47ee1b478a02bec2\n",
            "  Stored in directory: /root/.cache/pip/wheels/f9/e3/5b/ec24dd2984b12d61e0abf26289746c2436a0e7844f26f2515c\n",
            "Successfully built yfinance\n",
            "Installing collected packages: yfinance\n",
            "Successfully installed yfinance-0.1.54\n"
          ],
          "name": "stdout"
        }
      ]
    },
    {
      "cell_type": "code",
      "metadata": {
        "id": "-Go-C4CX-pq-",
        "colab_type": "code",
        "colab": {
          "base_uri": "https://localhost:8080/",
          "height": 50
        },
        "outputId": "a827449c-35db-40e7-8c83-7560b91dd34c"
      },
      "source": [
        "import pandas as pd\n",
        "import numpy as np\n",
        "import math\n",
        "import datetime\n",
        "import matplotlib.pyplot as plt\n",
        "from matplotlib import style\n",
        "\n",
        "import yfinance as yf\n",
        "yf.pdr_override()\n",
        "import pandas as pd\n",
        "from matplotlib import pyplot\n",
        "import statsmodels.api as sm\n",
        "\n",
        "def getDate(dt):\n",
        "     \"\"\" Ensures date is of datetime object type \n",
        "\n",
        "     * If date is not a string, it returns the same object that was inputted.\n",
        "     * If date is a string, it converts it into a datetime object of the form  %Y-%m-%d'\n",
        "     or '%m/%d/%Y' and returns it. \n",
        "\n",
        "    Args:\n",
        "      dt : str\n",
        "          A string representing a date \n",
        "    \n",
        "    Returns:\n",
        "      datetime_object \n",
        "          a casted representation of the date as a datetime object\n",
        "    \"\"\"\n",
        "\n",
        "    if type(dt) != str:\n",
        "        return dt\n",
        "    try:\n",
        "        datetime_object = datetime.datetime.strptime(dt, '%Y-%m-%d')\n",
        "    except Exception:\n",
        "        datetime_object = datetime.datetime.strptime(dt, '%m/%d/%Y')\n",
        "        return datetime_object\n",
        "    else:\n",
        "        return datetime_object\n",
        "\n",
        "# =============================================================================\n",
        "# def load_data(csv_name, include_cash = 0):\n",
        "#     dfP = pd.read_csv(csv_name+'.csv', parse_dates=['Date'])\n",
        "#     dfAP = pd.read_csv(csv_name+'.AP.csv', parse_dates=['Date'])\n",
        "#     dfP = dfP.sort_values(by='Date')\n",
        "#     dfAP = dfAP.sort_values(by='Date')\n",
        "#     dfP.set_index('Date', inplace = True)\n",
        "#     dfAP.set_index('Date', inplace = True)\n",
        "#     if include_cash:\n",
        "#         dfP['CASH'] = 1\n",
        "#         dfAP['CASH'] = 1\n",
        "#\n",
        "#     return dfP, dfAP\n",
        "# =============================================================================\n",
        "\n",
        "def detrendPrice(series):\n",
        "   \"\"\" Obtains the noise between the stock time series and its straight line of best fit representing the trend. \n",
        "\n",
        "    Args:\n",
        "      series : Pandas Series \n",
        "        A Series object representing the daily returns of the stocks \n",
        "    \n",
        "    Returns:\n",
        "      Pandas Series \n",
        "          A pandas series that shows the difference between a straight line of best fit and the actual stock series.\n",
        "    \"\"\"\n",
        "\n",
        "    # fit linear model\n",
        "    length = len(series)\n",
        "    x = np.arange(length)\n",
        "    y = np.array(series.values)\n",
        "    x_const = sm.add_constant(x) #need to add intercept constant\n",
        "    model = sm.OLS(y,x_const)\n",
        "    result = model.fit()\n",
        "    #intercept = result.params[0]\n",
        "    #beta = result.params[1]\n",
        "    #print(result.summary())\n",
        "    df = pd.DataFrame(result.params*x_const)\n",
        "    y_hat = df[0] + df[1]\n",
        "    #the residuals are the detrended prices\n",
        "    resid = y-y_hat\n",
        "    #add minimum necessary to residuals to avoid negative detrended parices\n",
        "    resid = resid + abs(resid.min() + 1/10*resid.min())\n",
        "    return resid"
      ],
      "execution_count": null,
      "outputs": [
        {
          "output_type": "stream",
          "text": [
            "/usr/local/lib/python3.6/dist-packages/pandas_datareader/compat/__init__.py:7: FutureWarning: pandas.util.testing is deprecated. Use the functions in the public API at pandas.testing instead.\n",
            "  from pandas.util.testing import assert_frame_equal\n"
          ],
          "name": "stderr"
        }
      ]
    },
    {
      "cell_type": "code",
      "metadata": {
        "id": "vEwZXarNR2lu",
        "colab_type": "code",
        "colab": {}
      },
      "source": [
        ""
      ],
      "execution_count": null,
      "outputs": []
    }
  ]
}