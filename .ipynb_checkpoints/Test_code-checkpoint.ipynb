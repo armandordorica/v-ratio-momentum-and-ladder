{
 "cells": [
  {
   "cell_type": "code",
   "execution_count": null,
   "metadata": {},
   "outputs": [],
   "source": [
    "%run FixYahoo.py"
   ]
  },
  {
   "cell_type": "code",
   "execution_count": 15,
   "metadata": {
    "scrolled": false
   },
   "outputs": [
    {
     "name": "stderr",
     "output_type": "stream",
     "text": [
      "C:\\Users\\omare\\Desktop\\Portfolio Management\\Project\\SPYTLT_RM\\functions.py:33: RuntimeWarning: invalid value encountered in double_scalars\n",
      "  vratio = t/(lag*b);\n"
     ]
    },
    {
     "data": {
      "image/png": "[encoded data removed]",
      "text/plain": [
       "<Figure size 432x288 with 1 Axes>"
      ]
     },
     "metadata": {},
     "output_type": "display_data"
    },
    {
     "name": "stdout",
     "output_type": "stream",
     "text": [
      "TotaAnnReturn = 28.254199\n",
      "CAGR = 17.810000\n",
      "Sharpe Ratio = 1.223000\n",
      "Volatility= 0.149000\n",
      "Volatility DIA= 0.195000\n",
      "Volatility TLT= 0.143000\n",
      "average return 0.002093\n",
      "[-0.00222358  0.0021413 ]\n",
      "Reject Ho = The population distribution of rule returns has an expected value of zero or less (because p_value is small enough)\n",
      "p_value:\n",
      "0.028200000000000003\n",
      "                 DIA       TLT  CASH  DIA_CHOICE  TLT_CHOICE  CASH_CHOICE  \\\n",
      "Date                                                                        \n",
      "2015-01-02       NaN       NaN   NaN         1.0         0.0          0.0   \n",
      "2015-01-05 -0.017421  0.015709   0.0         1.0         0.0          0.0   \n",
      "2015-01-06 -0.008294  0.018017   0.0         1.0         0.0          0.0   \n",
      "2015-01-07  0.012688 -0.001975   0.0         1.0         0.0          0.0   \n",
      "2015-01-08  0.018054 -0.013243   0.0         1.0         0.0          0.0   \n",
      "...              ...       ...   ...         ...         ...          ...   \n",
      "2020-08-03  0.008965 -0.005035   0.0         1.0         0.0          0.0   \n",
      "2020-08-04  0.006336  0.009532   0.0         0.0         1.0          0.0   \n",
      "2020-08-05  0.013375 -0.008743   0.0         1.0         0.0          0.0   \n",
      "2020-08-06  0.006985  0.005586   0.0         1.0         0.0          0.0   \n",
      "2020-08-07  0.002629 -0.006666   0.0         1.0         0.0          0.0   \n",
      "\n",
      "             DateCopy B_FREQ  DIA_LEN  DIA_LEX  ...  TLT_NUL     TLT_R  \\\n",
      "Date                                            ...                      \n",
      "2015-01-02 2015-01-02   both     True    False  ...      0.0       NaN   \n",
      "2015-01-05 2015-01-05   both     True    False  ...      0.0       NaN   \n",
      "2015-01-06 2015-01-06   both     True    False  ...      0.0  0.000000   \n",
      "2015-01-07 2015-01-07   both     True    False  ...      0.0 -0.000000   \n",
      "2015-01-08 2015-01-08   both     True    False  ...      0.0 -0.000000   \n",
      "...               ...    ...      ...      ...  ...      ...       ...   \n",
      "2020-08-03 2020-08-03   both     True    False  ...      0.0 -0.005035   \n",
      "2020-08-04 2020-08-04   both    False     True  ...      1.0  0.009532   \n",
      "2020-08-05 2020-08-05   both     True    False  ...      0.0 -0.000000   \n",
      "2020-08-06 2020-08-06   both     True    False  ...      0.0  0.005586   \n",
      "2020-08-07 2020-08-07   both     True    False  ...      0.0 -0.000000   \n",
      "\n",
      "            CASH_LEN  CASH_LEX  CASH_NUL  CASH_R     ALL_R  DETREND_ALL_R  \\\n",
      "Date                                                                        \n",
      "2015-01-02     False      True       0.0     NaN       NaN            NaN   \n",
      "2015-01-05     False      True       0.0     NaN       NaN            NaN   \n",
      "2015-01-06     False      True       0.0     0.0  0.000000       0.000000   \n",
      "2015-01-07     False      True       0.0     0.0  0.012688       0.017362   \n",
      "2015-01-08     False      True       0.0     0.0  0.018054       0.024995   \n",
      "...              ...       ...       ...     ...       ...            ...   \n",
      "2020-08-03     False      True       0.0     0.0 -0.005035      -0.016624   \n",
      "2020-08-04     False      True       0.0     0.0  0.009532       0.030377   \n",
      "2020-08-05     False      True       0.0     0.0  0.013375       0.042207   \n",
      "2020-08-06     False      True       0.0     0.0  0.005586       0.017581   \n",
      "2020-08-07     False      True       0.0     0.0  0.002629       0.007058   \n",
      "\n",
      "                   I  DETREND_I  \n",
      "Date                             \n",
      "2015-01-02  1.000000   1.000000  \n",
      "2015-01-05       NaN        NaN  \n",
      "2015-01-06  1.000000   1.000000  \n",
      "2015-01-07  1.012688   1.017362  \n",
      "2015-01-08  1.030971   1.042792  \n",
      "...              ...        ...  \n",
      "2020-08-03  2.524796   5.272069  \n",
      "2020-08-04  2.548864   5.432221  \n",
      "2020-08-05  2.582955   5.661500  \n",
      "2020-08-06  2.597383   5.761035  \n",
      "2020-08-07  2.604211   5.801694  \n",
      "\n",
      "[1410 rows x 24 columns]\n"
     ]
    }
   ],
   "source": [
    "from RotationalMomentumWFreqFunc import rotational_momentum\n",
    "\n",
    "TotaAnnReturn, CAGR, sharpe, volatility = rotational_momentum(lookback=20,shtrm_weight=1.0,RSI_weight=0.6,v_ratio_weight=1.0,Z_weight=-0.01, include_cash=1, verbose=1)"
   ]
  },
  {
   "cell_type": "code",
   "execution_count": null,
   "metadata": {},
   "outputs": [],
   "source": [
    "import pandas as pd\n",
    "\n",
    "df = pd.DataFrame(index = ['A','B'], columns = ['AA','BB'])\n",
    "\n",
    "df['AA'] = [1,2]\n",
    "\n",
    "df['BB'] = [3,4]\n",
    "df1 = pd.DataFrame(index = ['C'], columns = ['AA','BB'])\n",
    "df1['AA'] = [5]\n",
    "df1['BB'] = [6]\n",
    "df['AA'] = df['AA'].values+1\n",
    "\n",
    "df\n"
   ]
  }
 ],
 "metadata": {
  "kernelspec": {
   "display_name": "Python 3",
   "language": "python",
   "name": "python3"
  },
  "language_info": {
   "codemirror_mode": {
    "name": "ipython",
    "version": 3
   },
   "file_extension": ".py",
   "mimetype": "text/x-python",
   "name": "python",
   "nbconvert_exporter": "python",
   "pygments_lexer": "ipython3",
   "version": "3.7.6"
  }
 },
 "nbformat": 4,
 "nbformat_minor": 4
}
